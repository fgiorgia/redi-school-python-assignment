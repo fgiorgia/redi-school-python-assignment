{
  "cells": [
    {
      "cell_type": "markdown",
      "metadata": {
        "id": "gRrJlN7QOUlO"
      },
      "source": [
        "# 1. Variables:"
      ]
    },
    {
      "cell_type": "markdown",
      "metadata": {
        "id": "S3F3B4klOZXq"
      },
      "source": [
        "In this task, students will create a simple program that prompts the user to input their name, age, and favourite colour. The program should  store these inputs in separate variables and then print a sentence like \"Your name is  John, you are 25 years old, and your favourite colour is blue.\" This assignment practices variable declaration, user input, and string formatting."
      ]
    },
    {
      "cell_type": "code",
      "execution_count": null,
      "metadata": {
        "colab": {
          "base_uri": "https://localhost:8080/"
        },
        "id": "a-uaCxt8OIDq",
        "outputId": "1f8b2a6f-4275-49c2-d612-4694de031c86"
      },
      "outputs": [
        {
          "name": "stdout",
          "output_type": "stream",
          "text": [
            "Enter your name: Harry\n",
            "Enter your age: 125\n",
            "Enter your favorite color blue\n",
            "Your name is Harry, you are 125 years old, and your favorite color is blue.\n"
          ]
        }
      ],
      "source": [
        "def ask_user_information():\n",
        "        name = input(\"Enter your name: \")\n",
        "        name = name.capitalize()\n",
        "        age = input(\"Enter your age: \")\n",
        "        age_int = 0\n",
        "\n",
        "        while True:\n",
        "            if age.isdigit():\n",
        "                age_int = int(age)\n",
        "                if 0 <= age_int <= 125:\n",
        "                    break\n",
        "\n",
        "            age = input(\"Invalid answer! Please, enter your age again: \")\n",
        "\n",
        "        favorite_color = input('Enter your favorite color ')\n",
        "        print(f'Your name is {name}, you are {age} years old, and your favorite color is {favorite_color}.')\n",
        "\n",
        "ask_user_information()\n"
      ]
    },
    {
      "cell_type": "markdown",
      "metadata": {
        "id": "5893gwgiVNr_"
      },
      "source": [
        "# 2. Functions:"
      ]
    },
    {
      "cell_type": "markdown",
      "metadata": {
        "id": "baex1DdRVJsm"
      },
      "source": [
        "Students will write a function named multiply that takes two arguments and returns their product. They should test the function with various number pairs and print the results. This assignment reinforces function definition,  parameter handling, and return statements."
      ]
    },
    {
      "cell_type": "code",
      "execution_count": null,
      "metadata": {
        "colab": {
          "base_uri": "https://localhost:8080/"
        },
        "id": "5hdRV7TCRvr6",
        "outputId": "d284926a-291c-4f45-fde7-3ce76bc743ba"
      },
      "outputs": [
        {
          "data": {
            "text/plain": [
              "12"
            ]
          },
          "execution_count": 9,
          "metadata": {},
          "output_type": "execute_result"
        }
      ],
      "source": [
        "def multiply(value_1, value_2):\n",
        "    return value_1 * value_2\n",
        "\n",
        "multiply(3, 4)\n"
      ]
    },
    {
      "cell_type": "markdown",
      "metadata": {
        "id": "QTlNiFJCWDXl"
      },
      "source": [
        "# 3. Modules:"
      ]
    },
    {
      "cell_type": "markdown",
      "metadata": {
        "id": "uB_lRwncWD8v"
      },
      "source": [
        "By importing the random module, students will create a  program that generates a 6-digit One-Time Password (OTP) each time it's run. This assignment demonstrates module importation and utilization of module functions."
      ]
    },
    {
      "cell_type": "code",
      "execution_count": null,
      "metadata": {
        "id": "8bQpCPBGWVvS"
      },
      "outputs": [],
      "source": [
        "import random as r\n"
      ]
    },
    {
      "cell_type": "code",
      "execution_count": null,
      "metadata": {
        "colab": {
          "base_uri": "https://localhost:8080/"
        },
        "id": "TLOBvDuaZ_u6",
        "outputId": "2739a6a6-29cb-493e-99aa-daef2f7f3eb0"
      },
      "outputs": [
        {
          "name": "stdout",
          "output_type": "stream",
          "text": [
            "566835\n"
          ]
        }
      ],
      "source": [
        "password_otp = r.randint(100000, 999999)\n",
        "print(password_otp)"
      ]
    },
    {
      "cell_type": "markdown",
      "metadata": {
        "id": "slXsFs0TauB5"
      },
      "source": [
        "# 4. Data Structures:"
      ]
    },
    {
      "cell_type": "markdown",
      "metadata": {
        "id": "FG1sv7VJawvO"
      },
      "source": [
        "Students will create a dictionary to hold book information (title, author, year published). They should also write functions to add a new book,  remove a book, and display all books. This assignment practices dictionary manipulation and function creation to interact with data structures."
      ]
    },
    {
      "cell_type": "code",
      "execution_count": null,
      "metadata": {
        "id": "krAp3CI_a-v9"
      },
      "outputs": [],
      "source": [
        "book_list = []\n",
        "\n",
        "\n",
        "book_questions_prompts = [\n",
        "    'title',\n",
        "    'author',\n",
        "    'year published'\n",
        "]\n",
        "\n",
        "\n",
        "def ask_multiple_questions(prompt_list):\n",
        "    dictionary = dict()\n",
        "\n",
        "    for prompt in prompt_list:\n",
        "        while True:\n",
        "            user_answer = input(f'Please input {prompt}: ')\n",
        "\n",
        "            if prompt == \"year published\":\n",
        "                if user_answer.isdigit():\n",
        "                    user_answer = int(user_answer)\n",
        "                    if 100 <= user_answer <= 2100:\n",
        "                        break\n",
        "                    else:\n",
        "                        print(\"Invalid answer! Year must be between 100 and 2100.\")\n",
        "                else:\n",
        "                    print(\"Invalid answer! Year must be between 100 and 2100.\")\n",
        "            else:\n",
        "                break\n",
        "\n",
        "        dictionary[prompt] = user_answer\n",
        "    return dictionary\n",
        "\n",
        "\n",
        "def create_book(book_dict):\n",
        "    return {\n",
        "        'title': book_dict['title'],\n",
        "        'author': book_dict['author'],\n",
        "        'year published': int(book_dict['year published'])\n",
        "    }\n",
        "\n",
        "\n",
        "def add_book(book):\n",
        "    book_list.append(book)\n",
        "\n",
        "\n",
        "def add_book_interactive():\n",
        "    book_dict = ask_multiple_questions(book_questions_prompts)\n",
        "    book = create_book(book_dict)\n",
        "    add_book(book)\n",
        "    print('Book', book['title'], 'added succesfully!\\n')\n",
        "\n",
        "\n",
        "def remove_book_old(book_to_remove):\n",
        "    for i, book in enumerate(book_list):\n",
        "        if (\n",
        "            book_to_remove['title'] == book['title'] and\n",
        "            book_to_remove['author'] == book['author'] and\n",
        "            book_to_remove['year published'] == book['year published']\n",
        "        ):\n",
        "            del book_list[i]\n",
        "\n",
        "\n",
        "def ask_to_keep(book_to_remove):\n",
        "    global book_list\n",
        "\n",
        "    ask_user_to_keep = input(f\"Are you sure you want to keep {book_to_remove['title']}? (y/n) \")\n",
        "\n",
        "    while True:\n",
        "\n",
        "        if ask_user_to_keep in(\"Y\", \"y\", \"Yes\", \"yes\"):\n",
        "            break\n",
        "        elif ask_user_to_keep in(\"N\", \"n\",  \"No\", \"no\"):\n",
        "            remove_book(book_to_remove)\n",
        "            print(f\"{book_to_remove['title']} was removed successfully\")\n",
        "            break\n",
        "        else:\n",
        "            input(\"Invalid input! Are you sure you want to keep it? (y/n) \")\n",
        "\n",
        "\n",
        "def remove_book(book_to_remove):\n",
        "    global book_list\n",
        "\n",
        "    book_list = list(filter(lambda book: not (\n",
        "                            book_to_remove['title'] == book['title'] and\n",
        "                            book_to_remove['author'] == book['author'] and\n",
        "                            book_to_remove['year published'] == book['year published']\n",
        "                        ), book_list))\n",
        "\n",
        "\n",
        "def print_library():\n",
        "    for book in book_list:\n",
        "        print(\n",
        "            f\"Title: {book['title']}\",\n",
        "            f\"Author: {book['author']}\",\n",
        "            f\"Year published: {book['year published']}\",\n",
        "            sep=\"\\n\",\n",
        "            end=\"\\n\\n\",\n",
        "        )\n"
      ]
    },
    {
      "cell_type": "code",
      "execution_count": null,
      "metadata": {
        "colab": {
          "base_uri": "https://localhost:8080/"
        },
        "id": "ZAQoqNcnOo8e",
        "outputId": "fe881870-fb80-4322-d508-238af65f1ee1"
      },
      "outputs": [
        {
          "name": "stdout",
          "output_type": "stream",
          "text": [
            "Please input title: The Da Vinci Code\n",
            "Please input author: Dan Brown\n",
            "Please input year published: 2003\n",
            "Book The Da Vinci Code added succesfully!\n",
            "\n",
            "Are you sure you want to keep The Da Vinci Code? (y/n) y\n",
            "Title: The Little Prince\n",
            "Author: Antoine de Saint-Exupéry\n",
            "Year published: 1943\n",
            "\n",
            "Title: The Hobbit\n",
            "Author: J. R. R. Tolkien\n",
            "Year published: 1937\n",
            "\n",
            "Title: The Da Vinci Code\n",
            "Author: Dan Brown\n",
            "Year published: 2003\n",
            "\n"
          ]
        }
      ],
      "source": [
        "add_book(create_book({'title': \"Harry Potter: Philosopher's Stone\", 'author': 'J. K. Rowling', 'year published': 1997}))\n",
        "add_book_interactive()\n",
        "ask_to_keep(book_list[-1])\n",
        "remove_book(create_book({'title': \"Harry Potter: Philosopher's Stone\", 'author': 'J. K. Rowling', 'year published': 1997}))\n",
        "print_library()\n"
      ]
    },
    {
      "cell_type": "markdown",
      "metadata": {
        "id": "leuN0GvNPseu"
      },
      "source": [
        "# 5. Flow Control Statements:"
      ]
    },
    {
      "cell_type": "markdown",
      "metadata": {
        "id": "X3-COuTwPxJo"
      },
      "source": [
        "In this task, students will create a program that prompts the user for a number and determines whether the number is even or odd. This assignment reinforces the use of if-else statements for flow control."
      ]
    },
    {
      "cell_type": "code",
      "execution_count": null,
      "metadata": {
        "id": "82-OlJrSUUvN"
      },
      "outputs": [],
      "source": [
        "def is_int_str(string):\n",
        "    if string.isdigit():\n",
        "        return True\n",
        "\n",
        "    if len(string) >= 2 and string[0] == '-' and string[1:].isdigit():\n",
        "        return True\n",
        "\n",
        "    return False\n"
      ]
    },
    {
      "cell_type": "code",
      "execution_count": null,
      "metadata": {
        "colab": {
          "base_uri": "https://localhost:8080/"
        },
        "id": "cPTIh0g4P4DP",
        "outputId": "039cb5d6-4df6-4a45-b5aa-966a19179602"
      },
      "outputs": [
        {
          "name": "stdout",
          "output_type": "stream",
          "text": [
            "Enter a number d\n",
            "Enter a number d\n",
            "Enter a number d\n",
            "Enter a number 3.3\n",
            "Enter a number 3\n",
            "Your number 3 is odd\n"
          ]
        }
      ],
      "source": [
        "user_number_str = ''\n",
        "\n",
        "while not is_int_str(user_number_str):\n",
        "    user_number_str = input('Enter a number ')\n",
        "\n",
        "user_number_int = int(user_number_str)\n",
        "\n",
        "if user_number_int % 2 == 0:\n",
        "    print(f\"Your number {user_number_int} is even\")\n",
        "else:\n",
        "    print(f\"Your number {user_number_int} is odd\")"
      ]
    },
    {
      "cell_type": "markdown",
      "metadata": {
        "id": "ENkK0pohSe8H"
      },
      "source": [
        "# 6. Loops"
      ]
    },
    {
      "cell_type": "markdown",
      "metadata": {
        "id": "trzfrhMbShMo"
      },
      "source": [
        "Students are tasked with writing a program that asks the user for a number, then prints the multiplication table for that number (from 1 to  10). This assignment practices the use of loops for repeated tasks and user input handling."
      ]
    },
    {
      "cell_type": "code",
      "execution_count": null,
      "metadata": {
        "colab": {
          "base_uri": "https://localhost:8080/"
        },
        "id": "MIfOkx7PSwuN",
        "outputId": "cb93d1ed-df40-4891-f767-a835dc995d8f"
      },
      "outputs": [
        {
          "name": "stdout",
          "output_type": "stream",
          "text": [
            "Enter a number: 3\n",
            "[3, 6, 9, 12, 15, 18, 21, 24, 27, 30]\n"
          ]
        }
      ],
      "source": [
        "user_number_str = ''\n",
        "user_table = []\n",
        "\n",
        "while not is_int_str(user_number_str):\n",
        "    user_number_str = input('Enter a number: ')\n",
        "\n",
        "user_number_int = int(user_number_str)\n",
        "\n",
        "for i in range(1, 11):\n",
        "    user_result = user_number_int * i\n",
        "    user_table.append(user_result)\n",
        "\n",
        "print(user_table)"
      ]
    }
  ],
  "metadata": {
    "colab": {
      "provenance": []
    },
    "kernelspec": {
      "display_name": "Python 3",
      "name": "python3"
    },
    "language_info": {
      "name": "python"
    }
  },
  "nbformat": 4,
  "nbformat_minor": 0
}